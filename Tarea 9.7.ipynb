{
 "cells": [
  {
   "cell_type": "code",
   "execution_count": 3,
   "id": "f6d6633c",
   "metadata": {},
   "outputs": [],
   "source": [
    "import numpy as np\n",
    "import matplotlib.pyplot as plt\n",
    "import random"
   ]
  },
  {
   "cell_type": "code",
   "execution_count": 4,
   "id": "4883da8e",
   "metadata": {},
   "outputs": [],
   "source": [
    "\"\"\"Tal como el codigo visto en clases, usamos la cuadratura adaptativa\"\"\"\n",
    "class MaxIterations(Exception):\n",
    "    pass\n",
    "\n",
    "def adaptive(f, a, b, tol, N=100000):\n",
    "    \n",
    "    # Variables iniciales\n",
    "    approx = 0\n",
    "    i = 0\n",
    "    toli = [10*tol]\n",
    "    ai = [a]\n",
    "    hi = [(b - a)/2]\n",
    "    fai = [f(a)]\n",
    "    fbi = [f(b)]\n",
    "    fci = [f(a + hi[i])]\n",
    "    S0i = [hi[i]*(fai[i] + 4*fci[i] + fbi[i])/3]\n",
    "    Li = [1]\n",
    "    \n",
    "        \n",
    "    \n",
    "    while i >= 0:\n",
    "        \n",
    "        fd = f(ai[i] + hi[i]/2)\n",
    "        fe = f(ai[i] + 3*hi[i]/2)\n",
    "        S1 = hi[i]*(fai[i] + 4*fd + fci[i])/6\n",
    "        S2 = hi[i]*(fci[i] + 4*fe + fbi[i])/6\n",
    "        ai_prec = ai[i]\n",
    "        hi_prec = hi[i]\n",
    "        fai_prec = fai[i]\n",
    "        fbi_prec = fbi[i]\n",
    "        fci_prec = fci[i]\n",
    "        toli_prec = toli[i]\n",
    "        S0i_prec = S0i[i]\n",
    "        Li_prec = Li[i]\n",
    "        \n",
    "        i -= 1\n",
    "        if abs(S1 + S2 - S0i_prec) < toli_prec:\n",
    "            approx += S1 + S2\n",
    "        else:\n",
    "            if Li_prec >= N:\n",
    "                raise MaxIterations(\"Alcanzado máximo número de iteraciones.\")\n",
    "            \n",
    "            # Intervalo derecho\n",
    "            i += 1\n",
    "            if i >= len(ai): \n",
    "                ai.append(ai_prec + hi_prec)\n",
    "                fai.append(fci_prec)\n",
    "                fci.append(fe)\n",
    "                fbi.append(fbi_prec)\n",
    "                hi.append(hi_prec/2)\n",
    "                toli.append(toli_prec/2)\n",
    "                S0i.append(S2)\n",
    "                Li.append(Li_prec + 1)\n",
    "            else:\n",
    "                ai[i] = ai_prec + hi_prec\n",
    "                fai[i] = fci_prec\n",
    "                fci[i] = fe\n",
    "                fbi[i] = fbi_prec\n",
    "                hi[i] = hi_prec/2\n",
    "                toli[i] = toli_prec/2\n",
    "                S0i[i] = S2\n",
    "                Li[i] = Li_prec + 1\n",
    "                \n",
    "            # Intervalo izquierdo\n",
    "            i += 1\n",
    "            if i >= len(ai):\n",
    "                ai.append(ai_prec)\n",
    "                fai.append(fai_prec)\n",
    "                fci.append(fd)\n",
    "                fbi.append(fci_prec)\n",
    "                hi.append(hi[i-1])\n",
    "                toli.append(toli[i-1])\n",
    "                S0i.append(S1)\n",
    "                Li.append(Li[i-1])\n",
    "            else:\n",
    "                ai[i] = ai_prec\n",
    "                fai[i] = fai_prec\n",
    "                fci[i] = fd\n",
    "                fbi[i] = fci_prec\n",
    "                hi[i] = hi[i-1]\n",
    "                toli[i] = toli[i-1]\n",
    "                S0i[i] = S1\n",
    "                Li[i] = Li[i-1]\n",
    "                \n",
    "    return approx"
   ]
  },
  {
   "cell_type": "code",
   "execution_count": 5,
   "id": "6367d340",
   "metadata": {},
   "outputs": [],
   "source": [
    "\"\"\"creamos el error gaussiano y calculamos la integral\"\"\"\n",
    "error=random.gauss(0, 10**-5) "
   ]
  },
  {
   "cell_type": "code",
   "execution_count": 7,
   "id": "d004b306",
   "metadata": {},
   "outputs": [
    {
     "data": {
      "text/plain": [
       "0.45971092787962076"
      ]
     },
     "execution_count": 7,
     "metadata": {},
     "output_type": "execute_result"
    }
   ],
   "source": [
    "adaptive(lambda x: np.sin(x)+error, 0, 1, 0.00000001)"
   ]
  },
  {
   "cell_type": "code",
   "execution_count": 8,
   "id": "243f2da7",
   "metadata": {},
   "outputs": [],
   "source": [
    "\"\"\"de la expresión vista en clases podemos obtener el error, el cual nos queda como\n",
    "Σ(j = 1, n/2) de (h^5/(16*90))p^4 (ξj). De esta forma definimos una funcion del error\"\"\"\n",
    "def error(h):\n",
    "    v1=0\n",
    "    valor=int(1/(2*h))\n",
    "    for i in range(1,valor+1):\n",
    "        v1=v1+(1/(16*90))*(h**(5))*np.sin(i)\n",
    "    return v1 "
   ]
  },
  {
   "cell_type": "code",
   "execution_count": 9,
   "id": "d53c296d",
   "metadata": {},
   "outputs": [
    {
     "data": {
      "text/plain": [
       "Text(0, 0.5, 'error')"
      ]
     },
     "execution_count": 9,
     "metadata": {},
     "output_type": "execute_result"
    },
    {
     "data": {
      "image/png": "[encoded data removed]",
      "text/plain": [
       "<Figure size 432x288 with 1 Axes>"
      ]
     },
     "metadata": {
      "needs_background": "light"
     },
     "output_type": "display_data"
    }
   ],
   "source": [
    "\"\"\"graficamos\"\"\" \n",
    "h1 = np.linspace(0.00001,0.001,1000)\n",
    "plt.plot(h1, [error(xi) for xi in h1] )\n",
    "plt.xlabel('h')\n",
    "plt.ylabel('error')"
   ]
  },
  {
   "cell_type": "code",
   "execution_count": null,
   "id": "23d60fa7",
   "metadata": {},
   "outputs": [],
   "source": [
    "\"\"\" para un h grandes el error aumenta drasticamente pero se puede lograr una precisión particular de 10**-7 con un h pequeño. \n",
    "A partir de la oscilaciones del error vemos que este crece de manera muy rapida\"\"\""
   ]
  },
  {
   "cell_type": "markdown",
   "id": "830cd0ef",
   "metadata": {},
   "source": [
    "# Calificación: 5.0"
   ]
  },
  {
   "cell_type": "markdown",
   "id": "62f35563",
   "metadata": {},
   "source": [
    "Comparaste con el error numérico dado por la teoría. Se pedía comparar con el error obtenido en la integración (diferencia entre solución numérica y exacta). Esto es porque se quería tomar en cuenta el efecto del error aleatorio introducido, que no está considerado en la expresión teórica."
   ]
  },
  {
   "cell_type": "markdown",
   "id": "7925a4d5",
   "metadata": {},
   "source": []
  }
 ],
 "metadata": {
  "kernelspec": {
   "display_name": "Python 3",
   "language": "python",
   "name": "python3"
  },
  "language_info": {
   "codemirror_mode": {
    "name": "ipython",
    "version": 3
   },
   "file_extension": ".py",
   "mimetype": "text/x-python",
   "name": "python",
   "nbconvert_exporter": "python",
   "pygments_lexer": "ipython3",
   "version": "3.10.6 (main, Nov  2 2022, 18:53:38) [GCC 11.3.0]"
  },
  "vscode": {
   "interpreter": {
    "hash": "916dbcbb3f70747c44a77c7bcd40155683ae19c65e1c03b4aa3499c5328201f1"
   }
  }
 },
 "nbformat": 4,
 "nbformat_minor": 5
}
