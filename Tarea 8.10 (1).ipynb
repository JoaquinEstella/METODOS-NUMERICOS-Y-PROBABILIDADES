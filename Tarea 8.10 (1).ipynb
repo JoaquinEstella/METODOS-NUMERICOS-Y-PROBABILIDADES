{
 "cells": [
  {
   "cell_type": "code",
   "execution_count": 1,
   "id": "3ff16409",
   "metadata": {},
   "outputs": [],
   "source": [
    "\"\"\"Para estimar el error use la fórmula de error junto con una expresión a cinco puntos para la tercera derivada. Considere\n",
    "n (∆n= 10**-6)\n",
    "Para encontrar una expresión para la tercera derivada use la expansión \n",
    "en Taylor de f(x0 + h); f(x0 - h); f(x0 + 2h); f(x0 - 2h)\"\"\"\n",
    "import numpy as np"
   ]
  },
  {
   "cell_type": "code",
   "execution_count": 13,
   "id": "b5f1e8fe",
   "metadata": {
    "scrolled": true
   },
   "outputs": [],
   "source": [
    "\"\"\"Utilizando las 4 formulas salidas de las 4 funciones que se nos dan como recomendacion \n",
    "(Definiendolas hasta 5 punto, osea 6 termino), se puede despejar una aproximacion\n",
    "del error de la tercera derivada, tal que nos queda como (h**4)(f**(5)(x0)(1/4)\"\"\"\n",
    "\n",
    "\"\"\"Codigos sacados del item de la clase 16: Las derivadas numéricas son inestables y ruidosas\"\"\"\n",
    "def deriv3_datos(fxo, fx2, h):\n",
    "    return (fx2 - fxo)/(2*h)\n",
    "\n",
    "def deriv3_borde_datos(fxo, fx1, fx2, h):\n",
    "    return (-3*fxo + 4*fx1 - fx2)/(2*h)\n",
    "\n",
    "def deriv_datos(fx, h):\n",
    "    \n",
    "    n = len(fx)\n",
    "    deriv = np.zeros(n)\n",
    "    for i in range(n):\n",
    "        if i == 0:\n",
    "            deriv[i] = deriv3_borde_datos(fx[0], fx[1], fx[2], h)\n",
    "        elif i == n - 1:\n",
    "            deriv[i] = deriv3_borde_datos(fx[n-1], fx[n-2], fx[n-3], -h)\n",
    "        else:\n",
    "            deriv[i] = deriv3_datos(fx[i-1], fx[i+1], h)\n",
    "    return deriv\n",
    "    return (fx2 - fxo)/(2*h)    "
   ]
  },
  {
   "cell_type": "code",
   "execution_count": 14,
   "id": "dc50c63e",
   "metadata": {},
   "outputs": [],
   "source": [
    "\"\"\"Definicion de la tercera derivada al igual que los codigos anteriores\"\"\"\n",
    "def derivada_3(f_1,f_2,f_3,f_4,h):\n",
    "    return (1/(4*h**3))*((f_3-f_4) - 2*(f_1 - f_2))"
   ]
  },
  {
   "cell_type": "code",
   "execution_count": 32,
   "id": "153a3d0f",
   "metadata": {},
   "outputs": [
    {
     "name": "stdout",
     "output_type": "stream",
     "text": [
      "5.020833333333273e-05\n"
     ]
    }
   ],
   "source": [
    "\"\"\"Evaluo para los sigmas dados por el ejercicio, al igual que los n. para un h dado\"\"\"\n",
    "sigma = [0.75,0.77,0.79,0.81,0.83]\n",
    "n = [1.1324e-3,1.1376e-3,1.1386e-3,1.1454e-3,1.1474e-3]\n",
    "h = 0.03\n",
    "delta_n = 10**(-6)\n",
    "\n",
    "\"\"\"Estimo la derivada tal como se despejo a mano\"\"\"\n",
    "f_3 = derivada_3(n[0],n[1],n[2],n[3],h) \n",
    "deriv = deriv_datos(n,h)\n",
    "error_1 = (f3/6)*h**2 \n",
    "error_2 = delta_n/h\n",
    "\n",
    "error = error_1 + error_2\n",
    "print(error)"
   ]
  },
  {
   "cell_type": "code",
   "execution_count": null,
   "id": "262978f2",
   "metadata": {},
   "outputs": [],
   "source": []
  }
 ],
 "metadata": {
  "kernelspec": {
   "display_name": "Python 3",
   "language": "python",
   "name": "python3"
  },
  "language_info": {
   "codemirror_mode": {
    "name": "ipython",
    "version": 3
   },
   "file_extension": ".py",
   "mimetype": "text/x-python",
   "name": "python",
   "nbconvert_exporter": "python",
   "pygments_lexer": "ipython3",
   "version": "3.8.8"
  }
 },
 "nbformat": 4,
 "nbformat_minor": 5
}
